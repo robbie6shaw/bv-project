{
 "cells": [
  {
   "cell_type": "code",
   "execution_count": 5,
   "metadata": {},
   "outputs": [],
   "source": [
    "import pymatgen.core as pmg"
   ]
  },
  {
   "cell_type": "code",
   "execution_count": 9,
   "id": "79d9894d",
   "metadata": {},
   "outputs": [
    {
     "name": "stdout",
     "output_type": "stream",
     "text": [
      "Full Formula (Sn2 Pb2 F8)\n",
      "Reduced Formula: SnPbF4\n",
      "abc   :   4.231380   4.231380  11.426290\n",
      "angles:  90.000000  90.000000  90.000000\n",
      "pbc   :       True       True       True\n",
      "Sites (12)\n",
      "  #  SP       a     b       c\n",
      "---  ----  ----  ----  ------\n",
      "  0  Sn2+  0.75  0.75  0.1331\n",
      "  1  Sn2+  0.25  0.25  0.8669\n",
      "  2  Pb2+  0.75  0.75  0.6228\n",
      "  3  Pb2+  0.25  0.25  0.3772\n",
      "  4  F-    0.75  0.25  0.7833\n",
      "  5  F-    0.25  0.75  0.7833\n",
      "  6  F-    0.25  0.75  0.2167\n",
      "  7  F-    0.75  0.25  0.2167\n",
      "  8  F-    0.75  0.25  0.5\n",
      "  9  F-    0.25  0.75  0.5\n",
      " 10  F-    0.75  0.75  0.3136\n",
      " 11  F-    0.25  0.25  0.6864\n"
     ]
    }
   ],
   "source": [
    "structure = pmg.Structure.from_file(\"cif-files/Ternary Fluorides/EntryWithCollCode152949 (PbSnF4).cif\")\n",
    "\n",
    "print(structure)"
   ]
  }
 ],
 "metadata": {
  "kernelspec": {
   "display_name": "bv-project",
   "language": "python",
   "name": "python3"
  },
  "language_info": {
   "codemirror_mode": {
    "name": "ipython",
    "version": 3
   },
   "file_extension": ".py",
   "mimetype": "text/x-python",
   "name": "python",
   "nbconvert_exporter": "python",
   "pygments_lexer": "ipython3",
   "version": "3.11.4"
  }
 },
 "nbformat": 4,
 "nbformat_minor": 5
}
