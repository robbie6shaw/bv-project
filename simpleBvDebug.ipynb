{
 "cells": [
  {
   "cell_type": "code",
   "execution_count": 2,
   "metadata": {},
   "outputs": [],
   "source": [
    "import simpleBv as sb\n",
    "import pymatgen as pmg\n",
    "import pandas as pd"
   ]
  },
  {
   "cell_type": "code",
   "execution_count": 3,
   "metadata": {},
   "outputs": [],
   "source": [
    "structure = sb.generate_structure(\"cif-files/Ternary Fluorides/EntryWithCollCode152949 (PbSnF4).cif\")"
   ]
  },
  {
   "cell_type": "code",
   "execution_count": 8,
   "metadata": {},
   "outputs": [
    {
     "data": {
      "text/plain": [
       "0     Sn2+\n",
       "1     Sn2+\n",
       "2     Pb2+\n",
       "3     Pb2+\n",
       "4       F-\n",
       "5       F-\n",
       "6       F-\n",
       "7       F-\n",
       "8       F-\n",
       "9       F-\n",
       "10      F-\n",
       "11      F-\n",
       "Name: Species, dtype: object"
      ]
     },
     "execution_count": 8,
     "metadata": {},
     "output_type": "execute_result"
    }
   ],
   "source": [
    "df = structure.as_dataframe()\n",
    "df[\"Species\"]\n",
    "df.iloc[4][\"x\"]\n",
    "\n",
    "df[\"Species\"].map(lambda x: x.__str__()[:-1])"
   ]
  },
  {
   "cell_type": "code",
   "execution_count": 25,
   "metadata": {},
   "outputs": [
    {
     "name": "stdout",
     "output_type": "stream",
     "text": [
      "Sn2+1\n",
      "Sn2+1\n",
      "Pb2+1\n",
      "Pb2+1\n",
      "F-1\n",
      "F-1\n",
      "F-1\n",
      "F-1\n",
      "F-1\n",
      "F-1\n",
      "F-1\n",
      "F-1\n"
     ]
    }
   ],
   "source": [
    "for i, site in df.iterrows():\n",
    "    print(site[\"Species\"].__str__())"
   ]
  },
  {
   "cell_type": "code",
   "execution_count": 17,
   "metadata": {},
   "outputs": [
    {
     "data": {
      "text/plain": [
       "PeriodicSite: F1 (F-) (1.058, 3.174, 8.95) [0.25, 0.75, 0.7833]"
      ]
     },
     "execution_count": 17,
     "metadata": {},
     "output_type": "execute_result"
    }
   ],
   "source": [
    "structure.indices_from_symbol(\"F\")\n",
    "structure[5]"
   ]
  },
  {
   "cell_type": "code",
   "execution_count": 1,
   "metadata": {},
   "outputs": [
    {
     "ename": "NameError",
     "evalue": "name 'structure' is not defined",
     "output_type": "error",
     "traceback": [
      "\u001b[0;31m---------------------------------------------------------------------------\u001b[0m",
      "\u001b[0;31mNameError\u001b[0m                                 Traceback (most recent call last)",
      "Cell \u001b[0;32mIn[1], line 1\u001b[0m\n\u001b[0;32m----> 1\u001b[0m df \u001b[39m=\u001b[39m structure\u001b[39m.\u001b[39mas_dataframe()\n",
      "\u001b[0;31mNameError\u001b[0m: name 'structure' is not defined"
     ]
    }
   ],
   "source": [
    "df = structure.as_dataframe()"
   ]
  }
 ],
 "metadata": {
  "kernelspec": {
   "display_name": "bv-project",
   "language": "python",
   "name": "python3"
  },
  "language_info": {
   "codemirror_mode": {
    "name": "ipython",
    "version": 3
   },
   "file_extension": ".py",
   "mimetype": "text/x-python",
   "name": "python",
   "nbconvert_exporter": "python",
   "pygments_lexer": "ipython3",
   "version": "3.11.4"
  },
  "orig_nbformat": 4
 },
 "nbformat": 4,
 "nbformat_minor": 2
}
